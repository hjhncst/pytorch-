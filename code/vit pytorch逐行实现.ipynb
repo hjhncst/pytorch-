{
 "cells": [
  {
   "cell_type": "markdown",
   "metadata": {},
   "source": [
    "## vit 结构\n",
    "![image.png](../add_pic/vit.png)"
   ]
  },
  {
   "cell_type": "code",
   "execution_count": 17,
   "metadata": {},
   "outputs": [],
   "source": [
    "import torch\n",
    "import torch.nn as nn\n",
    "import torch.nn.functional as F"
   ]
  },
  {
   "cell_type": "code",
   "execution_count": 22,
   "metadata": {},
   "outputs": [
    {
     "name": "stdout",
     "output_type": "stream",
     "text": [
      "torch.Size([1, 4, 8])\n",
      "torch.Size([1, 4, 8])\n"
     ]
    }
   ],
   "source": [
    "def image2emb_naive(image, patch_size, weight):\n",
    "    # image: [B, C, H, W]\n",
    "    patch = F.unfold(image, kernel_size=patch_size, stride=patch_size).transpose(-1, -2)\n",
    "    patch_embedding = patch @ weight\n",
    "    return patch_embedding\n",
    "\n",
    "\n",
    "\n",
    "def image2emb_conv(image, kernel, stride):\n",
    "    conv_output = F.conv2d(image, kernel, stride=stride)\n",
    "    bs, ic, ih, iw = conv_output.shape\n",
    "    patch_embedding = conv_output.reshape((bs, ic, ih * iw)).transpose(-1, -2)\n",
    "    return patch_embedding\n",
    "\n",
    "\n",
    "\n",
    "# test code for image2emb\n",
    "bs, ic, ih, iw = 1, 3, 8, 8\n",
    "patch_size = 4\n",
    "model_dim = 8\n",
    "max_num_token = 16\n",
    "num_classes = 10\n",
    "batch_size = 1\n",
    "label = torch.randint(10, (batch_size, ))\n",
    "patch_depth = patch_size * patch_size * ic\n",
    "image = torch.randn(bs, ic, ih, iw)\n",
    "weight = torch.randn(patch_depth, model_dim)\n",
    "patch_embedding_navie = image2emb_naive(image, patch_size, weight)\n",
    "print(patch_embedding_navie.shape)\n",
    "\n",
    "kernel = weight.transpose(0, 1).reshape((-1, ic, patch_size, patch_size))\n",
    "patch_embedding_conv = image2emb_conv(image, kernel, stride=patch_size)\n",
    "print(image2emb_conv(image, kernel, stride=patch_size).shape)"
   ]
  },
  {
   "cell_type": "code",
   "execution_count": 23,
   "metadata": {},
   "outputs": [],
   "source": [
    "# prepend CLS token embedding\n",
    "cls_token_embedding = torch.randn(batch_size, 1, model_dim, requires_grad=True)\n",
    "token_embedding = torch.cat([cls_token_embedding, patch_embedding_conv], dim=1)\n",
    "\n",
    "# add position embedding\n",
    "position_embedding_table = torch.randn(max_num_token, model_dim, requires_grad=True)\n",
    "seq_len = token_embedding.shape[1]\n",
    "position_embedding = torch.tile(position_embedding_table[:seq_len], (token_embedding.shape[0], 1, 1))\n",
    "token_embedding = token_embedding + position_embedding"
   ]
  },
  {
   "cell_type": "code",
   "execution_count": 26,
   "metadata": {},
   "outputs": [
    {
     "name": "stdout",
     "output_type": "stream",
     "text": [
      "tensor(2.4045, grad_fn=<NllLossBackward0>)\n"
     ]
    },
    {
     "name": "stderr",
     "output_type": "stream",
     "text": [
      "d:\\17914\\Anaconda\\envs\\pytorch\\lib\\site-packages\\torch\\nn\\modules\\transformer.py:307: UserWarning: enable_nested_tensor is True, but self.use_nested_tensor is False because encoder_layer.self_attn.batch_first was not True(use batch_first for better inference performance)\n",
      "  warnings.warn(f\"enable_nested_tensor is True, but self.use_nested_tensor is False because {why_not_sparsity_fast_path}\")\n"
     ]
    }
   ],
   "source": [
    "# pass embedding to transformer encoder\n",
    "encoder_layer = nn.TransformerEncoderLayer(d_model=model_dim, nhead=8)\n",
    "transformer_encoder = nn.TransformerEncoder(encoder_layer, num_layers=6)\n",
    "encoder_output = transformer_encoder(token_embedding)\n",
    "\n",
    "# do clssification\n",
    "cls_token_output = encoder_output[:, 0, :]\n",
    "linear_layer = nn.Linear(model_dim, num_classes)\n",
    "logits = linear_layer(cls_token_output)\n",
    "loss_fn = nn.CrossEntropyLoss()\n",
    "loss = loss_fn(logits, label)\n",
    "print(loss)"
   ]
  }
 ],
 "metadata": {
  "kernelspec": {
   "display_name": "pytorch",
   "language": "python",
   "name": "python3"
  },
  "language_info": {
   "codemirror_mode": {
    "name": "ipython",
    "version": 3
   },
   "file_extension": ".py",
   "mimetype": "text/x-python",
   "name": "python",
   "nbconvert_exporter": "python",
   "pygments_lexer": "ipython3",
   "version": "3.10.13"
  }
 },
 "nbformat": 4,
 "nbformat_minor": 2
}
