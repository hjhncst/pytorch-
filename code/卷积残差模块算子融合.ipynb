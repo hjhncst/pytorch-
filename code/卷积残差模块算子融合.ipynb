{
 "cells": [
  {
   "cell_type": "markdown",
   "metadata": {},
   "source": [
    "**卷积残差模块算子融合**\n",
    "**要复现的结构图**\n",
    "![image.png](../add_pic/1.png)"
   ]
  },
  {
   "cell_type": "code",
   "execution_count": 12,
   "metadata": {},
   "outputs": [],
   "source": [
    "import torch\n",
    "import torch.nn.functional as F\n",
    "import torch.nn as nn\n",
    "import time"
   ]
  },
  {
   "cell_type": "code",
   "execution_count": 13,
   "metadata": {},
   "outputs": [],
   "source": [
    "# 参数设置\n",
    "in_channels = 2\n",
    "out_channels = 2\n",
    "kernel_size = 3\n",
    "w = 9\n",
    "h = 9"
   ]
  },
  {
   "cell_type": "code",
   "execution_count": 14,
   "metadata": {},
   "outputs": [],
   "source": [
    "# res_block = 3*3 conv + 1*1 conv + input\n",
    "x = torch.ones(1, in_channels, w, h)"
   ]
  },
  {
   "cell_type": "code",
   "execution_count": 15,
   "metadata": {},
   "outputs": [
    {
     "data": {
      "text/plain": [
       "tensor([[[[1.3271, 1.3578, 1.3578, 1.3578, 1.3578, 1.3578, 1.3578, 1.3578,\n",
       "           1.4942],\n",
       "          [1.5642, 1.5190, 1.5190, 1.5190, 1.5190, 1.5190, 1.5190, 1.5190,\n",
       "           1.4437],\n",
       "          [1.5642, 1.5190, 1.5190, 1.5190, 1.5190, 1.5190, 1.5190, 1.5190,\n",
       "           1.4437],\n",
       "          [1.5642, 1.5190, 1.5190, 1.5190, 1.5190, 1.5190, 1.5190, 1.5190,\n",
       "           1.4437],\n",
       "          [1.5642, 1.5190, 1.5190, 1.5190, 1.5190, 1.5190, 1.5190, 1.5190,\n",
       "           1.4437],\n",
       "          [1.5642, 1.5190, 1.5190, 1.5190, 1.5190, 1.5190, 1.5190, 1.5190,\n",
       "           1.4437],\n",
       "          [1.5642, 1.5190, 1.5190, 1.5190, 1.5190, 1.5190, 1.5190, 1.5190,\n",
       "           1.4437],\n",
       "          [1.5642, 1.5190, 1.5190, 1.5190, 1.5190, 1.5190, 1.5190, 1.5190,\n",
       "           1.4437],\n",
       "          [1.7121, 1.6625, 1.6625, 1.6625, 1.6625, 1.6625, 1.6625, 1.6625,\n",
       "           1.3619]],\n",
       "\n",
       "         [[0.6278, 0.8810, 0.8810, 0.8810, 0.8810, 0.8810, 0.8810, 0.8810,\n",
       "           0.8605],\n",
       "          [0.6599, 1.1470, 1.1470, 1.1470, 1.1470, 1.1470, 1.1470, 1.1470,\n",
       "           1.0897],\n",
       "          [0.6599, 1.1470, 1.1470, 1.1470, 1.1470, 1.1470, 1.1470, 1.1470,\n",
       "           1.0897],\n",
       "          [0.6599, 1.1470, 1.1470, 1.1470, 1.1470, 1.1470, 1.1470, 1.1470,\n",
       "           1.0897],\n",
       "          [0.6599, 1.1470, 1.1470, 1.1470, 1.1470, 1.1470, 1.1470, 1.1470,\n",
       "           1.0897],\n",
       "          [0.6599, 1.1470, 1.1470, 1.1470, 1.1470, 1.1470, 1.1470, 1.1470,\n",
       "           1.0897],\n",
       "          [0.6599, 1.1470, 1.1470, 1.1470, 1.1470, 1.1470, 1.1470, 1.1470,\n",
       "           1.0897],\n",
       "          [0.6599, 1.1470, 1.1470, 1.1470, 1.1470, 1.1470, 1.1470, 1.1470,\n",
       "           1.0897],\n",
       "          [0.8721, 1.0077, 1.0077, 1.0077, 1.0077, 1.0077, 1.0077, 1.0077,\n",
       "           1.0838]]]], grad_fn=<AddBackward0>)"
      ]
     },
     "execution_count": 15,
     "metadata": {},
     "output_type": "execute_result"
    }
   ],
   "source": [
    "# 方法1：原生写法\n",
    "t1 = time.time()\n",
    "conv_2d = nn.Conv2d(in_channels, out_channels, kernel_size, padding=\"same\")\n",
    "conv_2d_pointwise = nn.Conv2d(in_channels, out_channels, 1)\n",
    "result1 = conv_2d(x) + conv_2d_pointwise(x) + x\n",
    "t2 = time.time()\n",
    "\n",
    "result1"
   ]
  },
  {
   "cell_type": "code",
   "execution_count": 16,
   "metadata": {},
   "outputs": [
    {
     "name": "stdout",
     "output_type": "stream",
     "text": [
      "tensor([[[[1.3271, 1.3578, 1.3578, 1.3578, 1.3578, 1.3578, 1.3578, 1.3578,\n",
      "           1.4942],\n",
      "          [1.5642, 1.5190, 1.5190, 1.5190, 1.5190, 1.5190, 1.5190, 1.5190,\n",
      "           1.4437],\n",
      "          [1.5642, 1.5190, 1.5190, 1.5190, 1.5190, 1.5190, 1.5190, 1.5190,\n",
      "           1.4437],\n",
      "          [1.5642, 1.5190, 1.5190, 1.5190, 1.5190, 1.5190, 1.5190, 1.5190,\n",
      "           1.4437],\n",
      "          [1.5642, 1.5190, 1.5190, 1.5190, 1.5190, 1.5190, 1.5190, 1.5190,\n",
      "           1.4437],\n",
      "          [1.5642, 1.5190, 1.5190, 1.5190, 1.5190, 1.5190, 1.5190, 1.5190,\n",
      "           1.4437],\n",
      "          [1.5642, 1.5190, 1.5190, 1.5190, 1.5190, 1.5190, 1.5190, 1.5190,\n",
      "           1.4437],\n",
      "          [1.5642, 1.5190, 1.5190, 1.5190, 1.5190, 1.5190, 1.5190, 1.5190,\n",
      "           1.4437],\n",
      "          [1.7121, 1.6625, 1.6625, 1.6625, 1.6625, 1.6625, 1.6625, 1.6625,\n",
      "           1.3619]],\n",
      "\n",
      "         [[0.6278, 0.8810, 0.8810, 0.8810, 0.8810, 0.8810, 0.8810, 0.8810,\n",
      "           0.8605],\n",
      "          [0.6599, 1.1470, 1.1470, 1.1470, 1.1470, 1.1470, 1.1470, 1.1470,\n",
      "           1.0897],\n",
      "          [0.6599, 1.1470, 1.1470, 1.1470, 1.1470, 1.1470, 1.1470, 1.1470,\n",
      "           1.0897],\n",
      "          [0.6599, 1.1470, 1.1470, 1.1470, 1.1470, 1.1470, 1.1470, 1.1470,\n",
      "           1.0897],\n",
      "          [0.6599, 1.1470, 1.1470, 1.1470, 1.1470, 1.1470, 1.1470, 1.1470,\n",
      "           1.0897],\n",
      "          [0.6599, 1.1470, 1.1470, 1.1470, 1.1470, 1.1470, 1.1470, 1.1470,\n",
      "           1.0897],\n",
      "          [0.6599, 1.1470, 1.1470, 1.1470, 1.1470, 1.1470, 1.1470, 1.1470,\n",
      "           1.0897],\n",
      "          [0.6599, 1.1470, 1.1470, 1.1470, 1.1470, 1.1470, 1.1470, 1.1470,\n",
      "           1.0897],\n",
      "          [0.8721, 1.0077, 1.0077, 1.0077, 1.0077, 1.0077, 1.0077, 1.0077,\n",
      "           1.0838]]]], grad_fn=<AddBackward0>)\n",
      "True\n",
      "tensor([[[[1.3271, 1.3578, 1.3578, 1.3578, 1.3578, 1.3578, 1.3578, 1.3578,\n",
      "           1.4942],\n",
      "          [1.5642, 1.5190, 1.5190, 1.5190, 1.5190, 1.5190, 1.5190, 1.5190,\n",
      "           1.4437],\n",
      "          [1.5642, 1.5190, 1.5190, 1.5190, 1.5190, 1.5190, 1.5190, 1.5190,\n",
      "           1.4437],\n",
      "          [1.5642, 1.5190, 1.5190, 1.5190, 1.5190, 1.5190, 1.5190, 1.5190,\n",
      "           1.4437],\n",
      "          [1.5642, 1.5190, 1.5190, 1.5190, 1.5190, 1.5190, 1.5190, 1.5190,\n",
      "           1.4437],\n",
      "          [1.5642, 1.5190, 1.5190, 1.5190, 1.5190, 1.5190, 1.5190, 1.5190,\n",
      "           1.4437],\n",
      "          [1.5642, 1.5190, 1.5190, 1.5190, 1.5190, 1.5190, 1.5190, 1.5190,\n",
      "           1.4437],\n",
      "          [1.5642, 1.5190, 1.5190, 1.5190, 1.5190, 1.5190, 1.5190, 1.5190,\n",
      "           1.4437],\n",
      "          [1.7121, 1.6625, 1.6625, 1.6625, 1.6625, 1.6625, 1.6625, 1.6625,\n",
      "           1.3619]],\n",
      "\n",
      "         [[0.6278, 0.8810, 0.8810, 0.8810, 0.8810, 0.8810, 0.8810, 0.8810,\n",
      "           0.8605],\n",
      "          [0.6599, 1.1470, 1.1470, 1.1470, 1.1470, 1.1470, 1.1470, 1.1470,\n",
      "           1.0897],\n",
      "          [0.6599, 1.1470, 1.1470, 1.1470, 1.1470, 1.1470, 1.1470, 1.1470,\n",
      "           1.0897],\n",
      "          [0.6599, 1.1470, 1.1470, 1.1470, 1.1470, 1.1470, 1.1470, 1.1470,\n",
      "           1.0897],\n",
      "          [0.6599, 1.1470, 1.1470, 1.1470, 1.1470, 1.1470, 1.1470, 1.1470,\n",
      "           1.0897],\n",
      "          [0.6599, 1.1470, 1.1470, 1.1470, 1.1470, 1.1470, 1.1470, 1.1470,\n",
      "           1.0897],\n",
      "          [0.6599, 1.1470, 1.1470, 1.1470, 1.1470, 1.1470, 1.1470, 1.1470,\n",
      "           1.0897],\n",
      "          [0.6599, 1.1470, 1.1470, 1.1470, 1.1470, 1.1470, 1.1470, 1.1470,\n",
      "           1.0897],\n",
      "          [0.8721, 1.0077, 1.0077, 1.0077, 1.0077, 1.0077, 1.0077, 1.0077,\n",
      "           1.0838]]]], grad_fn=<ConvolutionBackward0>)\n",
      "True\n"
     ]
    }
   ],
   "source": [
    "# 方法2：算子融合\n",
    "# 把point_wise卷积和x本身都写成3*3卷积的形式\n",
    "# 最终将三个卷积写成一个卷积\n",
    "\n",
    "# (1)改造\n",
    "# 2*2*1*1->2*2*3*3\n",
    "pointwise_to_conv_weight = F.pad(conv_2d_pointwise.weight, [1, 1, 1, 1, 0, 0, 0, 0])\n",
    "conv_2d_for_pointwise = nn.Conv2d(in_channels, out_channels, kernel_size, padding=\"same\")\n",
    "conv_2d_for_pointwise.weight = nn.Parameter(pointwise_to_conv_weight)\n",
    "conv_2d_for_pointwise.bias = nn.Parameter(conv_2d_pointwise.bias)\n",
    "\n",
    "# 2*2*3*3\n",
    "zeros = torch.unsqueeze(torch.zeros(kernel_size, kernel_size), 0)\n",
    "stars = torch.unsqueeze(F.pad(torch.ones(1, 1), [1, 1, 1, 1]), 0)\n",
    "stars_zeros = torch.unsqueeze(torch.cat([stars, zeros], 0), 0)\n",
    "zeros_stars = torch.unsqueeze(torch.cat([zeros, stars], 0), 0)\n",
    "identity_to_conv_weight = torch.cat([stars_zeros, zeros_stars], 0)\n",
    "identity_to_conv_bias = torch.zeros(out_channels)\n",
    "conv_2d_for_identity = nn.Conv2d(in_channels, out_channels, kernel_size, padding=\"same\")\n",
    "conv_2d_for_identity.weight = nn.Parameter(identity_to_conv_weight)\n",
    "conv_2d_for_identity.bias = nn.Parameter(identity_to_conv_bias)\n",
    "\n",
    "result2 = conv_2d(x) + conv_2d_for_pointwise(x) + conv_2d_for_identity(x)\n",
    "\n",
    "print(result2)\n",
    "print(torch.allclose(result1, result2))\n",
    "\n",
    "# （2）融合\n",
    "t3 = time.time()\n",
    "conv_2d_for_fusion = nn.Conv2d(in_channels, out_channels, kernel_size, padding=\"same\")\n",
    "conv_2d_for_fusion.weight = nn.Parameter(conv_2d.weight.data + pointwise_to_conv_weight.data + identity_to_conv_weight.data)\n",
    "conv_2d_for_fusion.bias = nn.Parameter(conv_2d.bias.data + conv_2d_pointwise.bias.data + identity_to_conv_bias.data)\n",
    "t4 = time.time()\n",
    "\n",
    "result3 = conv_2d_for_fusion(x)\n",
    "print(result3)\n",
    "print(torch.allclose(result2, result3))"
   ]
  },
  {
   "cell_type": "code",
   "execution_count": 17,
   "metadata": {},
   "outputs": [
    {
     "name": "stdout",
     "output_type": "stream",
     "text": [
      "原生写法耗时： 0.0010006427764892578\n",
      "算子融合耗时： 0.0009989738464355469\n"
     ]
    }
   ],
   "source": [
    "print(\"原生写法耗时：\", t2 - t1)\n",
    "print(\"算子融合耗时：\", t4 - t3)"
   ]
  }
 ],
 "metadata": {
  "kernelspec": {
   "display_name": "pytorch",
   "language": "python",
   "name": "python3"
  },
  "language_info": {
   "codemirror_mode": {
    "name": "ipython",
    "version": 3
   },
   "file_extension": ".py",
   "mimetype": "text/x-python",
   "name": "python",
   "nbconvert_exporter": "python",
   "pygments_lexer": "ipython3",
   "version": "3.10.13"
  }
 },
 "nbformat": 4,
 "nbformat_minor": 2
}
