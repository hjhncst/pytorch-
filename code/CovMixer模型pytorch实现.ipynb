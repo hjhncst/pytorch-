{
 "cells": [
  {
   "cell_type": "markdown",
   "metadata": {},
   "source": [
    "**ConvMixer模型结构**\n",
    "![image.png](../add_pic/ConvMixer模型结构.png)"
   ]
  },
  {
   "cell_type": "markdown",
   "metadata": {},
   "source": [
    "![image.png](../add_pic/ConvMixer实现.png)"
   ]
  },
  {
   "cell_type": "code",
   "execution_count": 1,
   "metadata": {},
   "outputs": [],
   "source": [
    "import torch.nn as nn"
   ]
  },
  {
   "cell_type": "code",
   "execution_count": 2,
   "metadata": {},
   "outputs": [],
   "source": [
    "# 定义残差块\n",
    "class Residual(nn.Module):\n",
    "    def __init__(self, fn):\n",
    "        super().__init__()\n",
    "        self.fn = fn\n",
    "\n",
    "    def forward(self, x):\n",
    "        return self.fn(x) + x"
   ]
  },
  {
   "cell_type": "code",
   "execution_count": 3,
   "metadata": {},
   "outputs": [],
   "source": [
    "# 定义convmixer模型\n",
    "def ConvMixer(dim, depth, kernel_size=9, patch_size=7, n_classes=1000):\n",
    "    return nn.Sequential(\n",
    "        nn.Conv2d(3, dim, kernel_size=patch_size, stride=patch_size),\n",
    "        nn.GELU(),\n",
    "        nn.BatchNorm2d(dim),\n",
    "        *[nn.Sequential(\n",
    "            Residual(nn.Sequential(\n",
    "                nn.Conv2d(dim, dim, kernel_size, groups=dim, padding='same'),\n",
    "                nn.GELU(),\n",
    "                nn.BatchNorm2d(dim)\n",
    "            )),\n",
    "            nn.Conv2d(dim, dim, kernel_size=1),\n",
    "            nn.GELU(),\n",
    "            nn.BatchNorm2d(dim)\n",
    "    ) for _ in range(depth)],\n",
    "    nn.AdaptiveAvgPool2d((1, 1)),\n",
    "    nn.Flatten(),\n",
    "    nn.Linear(dim, n_classes)\n",
    "    )"
   ]
  },
  {
   "cell_type": "code",
   "execution_count": 4,
   "metadata": {},
   "outputs": [
    {
     "name": "stdout",
     "output_type": "stream",
     "text": [
      "Sequential(\n",
      "  (0): Conv2d(3, 512, kernel_size=(7, 7), stride=(7, 7))\n",
      "  (1): GELU(approximate='none')\n",
      "  (2): BatchNorm2d(512, eps=1e-05, momentum=0.1, affine=True, track_running_stats=True)\n",
      "  (3): Sequential(\n",
      "    (0): Residual(\n",
      "      (fn): Sequential(\n",
      "        (0): Conv2d(512, 512, kernel_size=(9, 9), stride=(1, 1), padding=same, groups=512)\n",
      "        (1): GELU(approximate='none')\n",
      "        (2): BatchNorm2d(512, eps=1e-05, momentum=0.1, affine=True, track_running_stats=True)\n",
      "      )\n",
      "    )\n",
      "    (1): Conv2d(512, 512, kernel_size=(1, 1), stride=(1, 1))\n",
      "    (2): GELU(approximate='none')\n",
      "    (3): BatchNorm2d(512, eps=1e-05, momentum=0.1, affine=True, track_running_stats=True)\n",
      "  )\n",
      "  (4): Sequential(\n",
      "    (0): Residual(\n",
      "      (fn): Sequential(\n",
      "        (0): Conv2d(512, 512, kernel_size=(9, 9), stride=(1, 1), padding=same, groups=512)\n",
      "        (1): GELU(approximate='none')\n",
      "        (2): BatchNorm2d(512, eps=1e-05, momentum=0.1, affine=True, track_running_stats=True)\n",
      "      )\n",
      "    )\n",
      "    (1): Conv2d(512, 512, kernel_size=(1, 1), stride=(1, 1))\n",
      "    (2): GELU(approximate='none')\n",
      "    (3): BatchNorm2d(512, eps=1e-05, momentum=0.1, affine=True, track_running_stats=True)\n",
      "  )\n",
      "  (5): Sequential(\n",
      "    (0): Residual(\n",
      "      (fn): Sequential(\n",
      "        (0): Conv2d(512, 512, kernel_size=(9, 9), stride=(1, 1), padding=same, groups=512)\n",
      "        (1): GELU(approximate='none')\n",
      "        (2): BatchNorm2d(512, eps=1e-05, momentum=0.1, affine=True, track_running_stats=True)\n",
      "      )\n",
      "    )\n",
      "    (1): Conv2d(512, 512, kernel_size=(1, 1), stride=(1, 1))\n",
      "    (2): GELU(approximate='none')\n",
      "    (3): BatchNorm2d(512, eps=1e-05, momentum=0.1, affine=True, track_running_stats=True)\n",
      "  )\n",
      "  (6): Sequential(\n",
      "    (0): Residual(\n",
      "      (fn): Sequential(\n",
      "        (0): Conv2d(512, 512, kernel_size=(9, 9), stride=(1, 1), padding=same, groups=512)\n",
      "        (1): GELU(approximate='none')\n",
      "        (2): BatchNorm2d(512, eps=1e-05, momentum=0.1, affine=True, track_running_stats=True)\n",
      "      )\n",
      "    )\n",
      "    (1): Conv2d(512, 512, kernel_size=(1, 1), stride=(1, 1))\n",
      "    (2): GELU(approximate='none')\n",
      "    (3): BatchNorm2d(512, eps=1e-05, momentum=0.1, affine=True, track_running_stats=True)\n",
      "  )\n",
      "  (7): Sequential(\n",
      "    (0): Residual(\n",
      "      (fn): Sequential(\n",
      "        (0): Conv2d(512, 512, kernel_size=(9, 9), stride=(1, 1), padding=same, groups=512)\n",
      "        (1): GELU(approximate='none')\n",
      "        (2): BatchNorm2d(512, eps=1e-05, momentum=0.1, affine=True, track_running_stats=True)\n",
      "      )\n",
      "    )\n",
      "    (1): Conv2d(512, 512, kernel_size=(1, 1), stride=(1, 1))\n",
      "    (2): GELU(approximate='none')\n",
      "    (3): BatchNorm2d(512, eps=1e-05, momentum=0.1, affine=True, track_running_stats=True)\n",
      "  )\n",
      "  (8): Sequential(\n",
      "    (0): Residual(\n",
      "      (fn): Sequential(\n",
      "        (0): Conv2d(512, 512, kernel_size=(9, 9), stride=(1, 1), padding=same, groups=512)\n",
      "        (1): GELU(approximate='none')\n",
      "        (2): BatchNorm2d(512, eps=1e-05, momentum=0.1, affine=True, track_running_stats=True)\n",
      "      )\n",
      "    )\n",
      "    (1): Conv2d(512, 512, kernel_size=(1, 1), stride=(1, 1))\n",
      "    (2): GELU(approximate='none')\n",
      "    (3): BatchNorm2d(512, eps=1e-05, momentum=0.1, affine=True, track_running_stats=True)\n",
      "  )\n",
      "  (9): Sequential(\n",
      "    (0): Residual(\n",
      "      (fn): Sequential(\n",
      "        (0): Conv2d(512, 512, kernel_size=(9, 9), stride=(1, 1), padding=same, groups=512)\n",
      "        (1): GELU(approximate='none')\n",
      "        (2): BatchNorm2d(512, eps=1e-05, momentum=0.1, affine=True, track_running_stats=True)\n",
      "      )\n",
      "    )\n",
      "    (1): Conv2d(512, 512, kernel_size=(1, 1), stride=(1, 1))\n",
      "    (2): GELU(approximate='none')\n",
      "    (3): BatchNorm2d(512, eps=1e-05, momentum=0.1, affine=True, track_running_stats=True)\n",
      "  )\n",
      "  (10): Sequential(\n",
      "    (0): Residual(\n",
      "      (fn): Sequential(\n",
      "        (0): Conv2d(512, 512, kernel_size=(9, 9), stride=(1, 1), padding=same, groups=512)\n",
      "        (1): GELU(approximate='none')\n",
      "        (2): BatchNorm2d(512, eps=1e-05, momentum=0.1, affine=True, track_running_stats=True)\n",
      "      )\n",
      "    )\n",
      "    (1): Conv2d(512, 512, kernel_size=(1, 1), stride=(1, 1))\n",
      "    (2): GELU(approximate='none')\n",
      "    (3): BatchNorm2d(512, eps=1e-05, momentum=0.1, affine=True, track_running_stats=True)\n",
      "  )\n",
      "  (11): AdaptiveAvgPool2d(output_size=(1, 1))\n",
      "  (12): Flatten(start_dim=1, end_dim=-1)\n",
      "  (13): Linear(in_features=512, out_features=1000, bias=True)\n",
      ")\n"
     ]
    }
   ],
   "source": [
    "# 测试模型\n",
    "model = ConvMixer(dim=512, depth=8)\n",
    "print(model)"
   ]
  },
  {
   "cell_type": "code",
   "execution_count": null,
   "metadata": {},
   "outputs": [],
   "source": []
  }
 ],
 "metadata": {
  "kernelspec": {
   "display_name": "pytorch",
   "language": "python",
   "name": "python3"
  },
  "language_info": {
   "codemirror_mode": {
    "name": "ipython",
    "version": 3
   },
   "file_extension": ".py",
   "mimetype": "text/x-python",
   "name": "python",
   "nbconvert_exporter": "python",
   "pygments_lexer": "ipython3",
   "version": "3.10.13"
  }
 },
 "nbformat": 4,
 "nbformat_minor": 2
}
